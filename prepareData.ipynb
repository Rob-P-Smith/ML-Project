{
 "cells": [
  {
   "cell_type": "code",
   "execution_count": 1,
   "metadata": {},
   "outputs": [],
   "source": [
    "import pandas as pd\n",
    "import matplotlib.pyplot as plt\n",
    "import seaborn as sns\n",
    "import numpy as np\n",
    "from sklearn.linear_model import LinearRegression"
   ]
  },
  {
   "cell_type": "code",
   "execution_count": 2,
   "metadata": {},
   "outputs": [],
   "source": [
    "# Load the first CSV file\n",
    "df1 = pd.read_csv('./raw_data/Raw_Sea_Level_Data/sea_levels_2015.csv')\n",
    "df1['year'] = pd.to_datetime(df1['Time']).dt.year\n",
    "df1_grouped = df1.groupby('year')['GMSL'].mean().reset_index()\n",
    "\n",
    "# Load the second CSV file\n",
    "df2 = pd.read_csv('./raw_data/Raw_Sea_Level_Data/sealevel.csv')\n",
    "df2_selected = df2[['year', 'GMSL_GIA']].copy()\n",
    "df2_selected.rename(columns={'year': 'year', 'GMSL_GIA': 'GMSL'}, inplace=True)\n",
    "\n",
    "# Filter df2_selected to keep only rows where the year is 1994 or later\n",
    "df2_selected = df2_selected[df2_selected['year'] >= 1994]\n",
    "\n",
    "# Merge the two DataFrames on the 'Year' column, prioritizing df1 values\n",
    "df_combined = pd.merge(df1_grouped, df2_selected, on='year', how='outer', suffixes=('_df1', '_df2'))\n",
    "df_combined['GMSL'] = df_combined['GMSL_df1'].combine_first(df_combined['GMSL_df2'])\n",
    "df_combined = df_combined[['year', 'GMSL']]\n",
    "\n",
    "# Average the GMSL values for each year\n",
    "df_combavg = df_combined.groupby('year')['GMSL'].mean().reset_index()\n",
    "\n",
    "# Round the GMSL column to 3 decimal places\n",
    "df_combavg['GMSL'] = df_combavg['GMSL'].round(3)\n",
    "# Save the final DataFrame to a CSV file\n",
    "df_combavg.to_csv('./Outputs/sealeveldata.csv', index=False)"
   ]
  },
  {
   "cell_type": "code",
   "execution_count": 35,
   "metadata": {},
   "outputs": [],
   "source": [
    "# Load the CSV file\n",
    "df = pd.read_csv('./raw_data/population/World Population Growth.csv')\n",
    "\n",
    "# Select the required columns\n",
    "df_selected = df[['year', 'Population', 'Yearly Growth %']].copy()\n",
    "\n",
    "# Convert the Population column to a numeric type\n",
    "df_selected.loc[:, 'Population'] = df_selected['Population'].str.replace(',', '').astype(int)\n",
    "\n",
    "# Filter the DataFrame to include only years up to 2021\n",
    "df_selected = df_selected[df_selected['year'] <= 2021]\n",
    "\n",
    "# Save the DataFrame to a new CSV file\n",
    "df_selected.to_csv('./Outputs/pop_data.csv', index=False)"
   ]
  },
  {
   "cell_type": "code",
   "execution_count": 36,
   "metadata": {},
   "outputs": [],
   "source": [
    "# Merge the DataFrames on the 'year' column with a left join\n",
    "df_combined_data = pd.merge(df_combavg, df_selected, on='year', how='left')\n",
    "\n",
    "# Rename the columns\n",
    "df_combined_data.rename(columns={\n",
    "    'GMSL': 'GMSL',\n",
    "    'Population': 'population',\n",
    "    'Yearly Growth %': 'popChangePercent'\n",
    "}, inplace=True)\n",
    "\n",
    "# Handle population column\n",
    "df_combined_data['population'] = pd.to_numeric(df_combined_data['population'], errors='coerce')\n",
    "df_combined_data['population'] = df_combined_data['population'].fillna(0)\n",
    "\n",
    "# Handle population change percent\n",
    "df_combined_data['popChangePercent'] = (\n",
    "    df_combined_data['popChangePercent']\n",
    "    .str.rstrip('%')\n",
    "    .pipe(pd.to_numeric, errors='coerce')\n",
    "    .fillna(0)\n",
    ")\n",
    "\n",
    "# Save the DataFrame to a new CSV file\n",
    "df_combined_data.to_csv('./Outputs/pop_sea_data.csv', index=False)"
   ]
  },
  {
   "cell_type": "code",
   "execution_count": 40,
   "metadata": {},
   "outputs": [],
   "source": [
    "#Now we need to projec what the population data was for the years 1880-1950 since there's no good data available for that I can find so this is a processing of the best backwards projections I can find\n",
    "\n",
    "df_projected = pd.read_csv('./raw_data/Population/Projected_Historic_data/population.csv')\n",
    "\n",
    "# Drop Code column and rename Population column\n",
    "df_projected = df_projected.drop('Code', axis=1)\n",
    "df_projected = df_projected.rename(columns={'Population (historical)': 'pop'})\n",
    "\n",
    "# Define list of continents to keep\n",
    "continents = [\"Africa\", \"North America\", \"South America\", \"Oceania\", \"Europe\", \"Asia\"]\n",
    "# Filter DataFrame to keep only rows where Entity is in continents list\n",
    "df_projected = df_projected[df_projected['Entity'].isin(continents)]\n",
    "# Group by year, sum populations, and filter date range\n",
    "df_yearly_total = (df_projected.groupby('Year')['pop']\n",
    "                   .sum()\n",
    "                   .reset_index()\n",
    "                   .query('1800 <= Year <= 1950'))\n",
    "df_yearly_total.to_csv('./Outputs/pop_by_continent2.csv', index=False)\n",
    "\n",
    "# Create year-population dictionary\n",
    "pop_dict = dict(zip(df_yearly_total['Year'], df_yearly_total['pop']))\n",
    "# Print column names to verify\n",
    "\n",
    "# Replace zeros with mapped population values\n",
    "df_combined_data.loc[df_combined_data['population'] == 0, 'pop'] = \\\n",
    "    df_combined_data.loc[df_combined_data['population'] == 0, 'year'].map(pop_dict)\n",
    "\n",
    "#Write to CSV with new filename\n",
    "df_combined_data.to_csv('pop_sea_full_range.csv', index=False)"
   ]
  },
  {
   "cell_type": "code",
   "execution_count": 43,
   "metadata": {},
   "outputs": [
    {
     "name": "stdout",
     "output_type": "stream",
     "text": [
      "\n",
      "Remaining DataFrames:\n"
     ]
    },
    {
     "data": {
      "text/plain": [
       "[]"
      ]
     },
     "execution_count": 43,
     "metadata": {},
     "output_type": "execute_result"
    }
   ],
   "source": [
    "# List all active DataFrames and their shapes\n",
    "active_dfs = [var_name for var_name in dir() if isinstance(eval(var_name), pd.DataFrame)]\n",
    "# Drop all DataFrames to clear data and not confuse what's what in a long notebook\n",
    "for df_name in active_dfs:\n",
    "    del globals()[df_name]\n",
    "print(\"\\nRemaining DataFrames:\")\n",
    "[var_name for var_name in dir() if isinstance(eval(var_name), pd.DataFrame)]"
   ]
  },
  {
   "cell_type": "code",
   "execution_count": 47,
   "metadata": {},
   "outputs": [],
   "source": [
    "df_data = pd.read_csv('./Outputs/pop_sea_full_range.csv')\n",
    "# Calculate population percentage change\n",
    "df_data.loc[df_data['year'].between(1881, 1950), 'popChangePercent'] = (\n",
    "    (df_data['pop'] - df_data['pop'].shift(1)) / df_data['pop'].shift(1) * 100).round(3)\n",
    "\n",
    "# Write to new CSV\n",
    "df_data.to_csv('./Outputs/pop_sea_full_range_complete.csv', index=False)"
   ]
  }
 ],
 "metadata": {
  "kernelspec": {
   "display_name": "Python 3",
   "language": "python",
   "name": "python3"
  },
  "language_info": {
   "codemirror_mode": {
    "name": "ipython",
    "version": 3
   },
   "file_extension": ".py",
   "mimetype": "text/x-python",
   "name": "python",
   "nbconvert_exporter": "python",
   "pygments_lexer": "ipython3",
   "version": "3.13.0"
  }
 },
 "nbformat": 4,
 "nbformat_minor": 2
}
