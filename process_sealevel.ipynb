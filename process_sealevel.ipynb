{
 "cells": [
  {
   "cell_type": "code",
   "execution_count": 25,
   "metadata": {},
   "outputs": [],
   "source": [
    "import pandas as pd\n",
    "import matplotlib.pyplot as plt\n",
    "import seaborn as sns\n",
    "import numpy as np"
   ]
  },
  {
   "cell_type": "code",
   "execution_count": null,
   "metadata": {},
   "outputs": [],
   "source": [
    "#Prepare the GMSL Data for the model\n",
    "\n",
    "# Read the CSV file\n",
    "df_sea_levels = pd.read_csv('./data/Raw_Sea_Level_Data/sea_levels_2015.csv')\n",
    "\n",
    "# Extract the year from the 'Time' column\n",
    "df_sea_levels['Year'] = pd.to_datetime(df_sea_levels['Time']).dt.year\n",
    "\n",
    "# Drop the 'GMSL uncertainty' column\n",
    "df_sea_levels = df_sea_levels.drop(columns=['GMSL uncertainty'])\n",
    "\n",
    "# Group by year and calculate the mean for numeric columns\n",
    "df_averaged = df_sea_levels.groupby('Year').mean(numeric_only=True).reset_index()\n",
    "\n",
    "# Save the averaged data to a new CSV file\n",
    "df_averaged.to_csv('./Outputs/averaged_sea_level.csv', index=False)\n",
    "\n",
    "# Read the raw sea level data\n",
    "df_second_sea_level = pd.read_csv('./data/Raw_Sea_Level_Data/sealevel.csv')\n",
    "\n",
    "# Filter the data for the years 2014 to 2021\n",
    "df_filtered = df_second_sea_level[(df_second_sea_level['year'] >= 2014) & (df_second_sea_level['year'] <= 2021)]\n",
    "\n",
    "# Drop all columns except 'year' and 'GMSL_GIA'\n",
    "df_filtered = df_filtered[['year', 'GMSL_GIA']]\n",
    "\n",
    "# Rename 'GMSL_GIA' to 'GMSL'\n",
    "df_filtered = df_filtered.rename(columns={'GMSL_GIA': 'GMSL'})\n",
    "\n",
    "# Group the data by year and calculate the average GMSL for each year\n",
    "df_grouped = df_filtered.groupby('year').mean().reset_index()\n",
    "\n",
    "# Rename columns to match the existing CSV file\n",
    "df_grouped = df_grouped.rename(columns={'year': 'Year'})\n",
    "\n",
    "# Read the existing averaged data\n",
    "df_existing = pd.read_csv('./Outputs/averaged_sea_level.csv')\n",
    "\n",
    "# Append the new data to the existing data\n",
    "df_combined = pd.concat([df_existing, df_grouped], ignore_index=True)\n",
    "\n",
    "# Save the combined data back to the same file\n",
    "df_combined.to_csv('./Outputs/averaged_sea_level.csv', index=False)\n",
    "\n",
    "# Read the CSV file\n",
    "df_avg_sea_level = pd.read_csv('./Outputs/averaged_sea_level.csv')\n",
    "\n",
    "# Convert the GMSL column to a number with max 3 decimal places\n",
    "df_avg_sea_level['GMSL'] = df_avg_sea_level['GMSL'].round(3)\n",
    "\n",
    "# Save the modified data to a new CSV file\n",
    "df_avg_sea_level.to_csv('./Model_Inputs/avg_format_GMSL.csv', index=False)"
   ]
  },
  {
   "cell_type": "code",
   "execution_count": null,
   "metadata": {},
   "outputs": [],
   "source": []
  }
 ],
 "metadata": {
  "kernelspec": {
   "display_name": "Python 3",
   "language": "python",
   "name": "python3"
  },
  "language_info": {
   "codemirror_mode": {
    "name": "ipython",
    "version": 3
   },
   "file_extension": ".py",
   "mimetype": "text/x-python",
   "name": "python",
   "nbconvert_exporter": "python",
   "pygments_lexer": "ipython3",
   "version": "3.13.0"
  }
 },
 "nbformat": 4,
 "nbformat_minor": 2
}
