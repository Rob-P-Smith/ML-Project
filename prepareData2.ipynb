{
 "cells": [
  {
   "cell_type": "code",
   "execution_count": 3,
   "metadata": {},
   "outputs": [],
   "source": [
    "import pandas as pd\n",
    "import matplotlib.pyplot as plt\n",
    "import seaborn as sns\n",
    "import numpy as np"
   ]
  },
  {
   "cell_type": "code",
   "execution_count": 8,
   "metadata": {},
   "outputs": [],
   "source": [
    "df = pd.read_csv('./raw_data/Unsorted/owid-co2-data.csv')\n",
    "# Drop the 'iso_code' and 'country' columns\n",
    "df = df.drop(columns=['iso_code', 'country'])\n",
    "# Filter out years prior to 1880\n",
    "df = df[df['year'] >= 1880]\n",
    "# Group by 'year' and sum the values of the other columns\n",
    "grouped_df = df.groupby('year').sum()\n",
    "# Round the summed values to 4 decimal places\n",
    "grouped_df = grouped_df.round(4)\n",
    "# Save the new DataFrame to a CSV file\n",
    "grouped_df.to_csv('./Outputs/emissions.csv')\n"
   ]
  },
  {
   "cell_type": "code",
   "execution_count": null,
   "metadata": {},
   "outputs": [],
   "source": [
    "# Load the CSV file into a DataFrame, skipping the header row\n",
    "df = pd.read_csv('./raw_data/Unsorted/rainforestData.csv', header=None, skiprows=1)\n",
    "\n",
    "# Rename the columns\n",
    "df.columns = ['year', 'remainingCover', 'annualLoss', 'percent1970Cover']\n",
    "\n",
    "# Remove the '%' symbol from the 'percent1970Cover' column and convert to float\n",
    "df['percent1970Cover'] = df['percent1970Cover'].str.rstrip('%').astype(float)\n",
    "\n",
    "# Convert 'remainingCover' and 'annualLoss' from strings to numeric values\n",
    "df['remainingCover'] = df['remainingCover'].str.replace(',', '').astype(float)\n",
    "df['annualLoss'] = df['annualLoss'].str.replace(',', '').astype(float)\n",
    "\n",
    "# Save the modified DataFrame to a new CSV file\n",
    "df.to_csv('./Outputs/deforestation.csv', index=False)"
   ]
  },
  {
   "cell_type": "code",
   "execution_count": 29,
   "metadata": {},
   "outputs": [],
   "source": [
    "# Read CSV file\n",
    "df = pd.read_csv('./raw_data/Unsorted/globalOilProductionFixed.csv')\n",
    "\n",
    "# Group by Year and sum both columns\n",
    "yearly_totals = filtered_df.groupby('Year').agg({\n",
    "    'OilProductionInTWh': 'sum',\n",
    "    'BarrelsDayEquiv': 'sum'\n",
    "}).reset_index()\n",
    "\n",
    "# Save filtered data\n",
    "filtered_df.to_csv('./raw_data/Unsorted/globalOilProductionSummed.csv', index=True)"
   ]
  },
  {
   "cell_type": "code",
   "execution_count": 35,
   "metadata": {},
   "outputs": [],
   "source": [
    "import pandas as pd\n",
    "\n",
    "# Read CSV file\n",
    "df = pd.read_csv('./raw_data/Unsorted/smallerOil.csv')\n",
    "\n",
    "# Group by Year and sum both columns\n",
    "yearly_totals = df.groupby('Year').agg({\n",
    "    'oilProductionInTWh': 'sum',\n",
    "    'barrelsEquivalent': 'sum'\n",
    "}).reset_index()\n",
    "\n",
    "# Save summed data to new CSV file\n",
    "yearly_totals.to_csv('./raw_data/Unsorted/smallOilSums.csv', index=False)"
   ]
  },
  {
   "cell_type": "code",
   "execution_count": null,
   "metadata": {},
   "outputs": [],
   "source": [
    "# Read the CSV files\n",
    "oil_df = pd.read_csv('./Outputs/smallOilSums.csv')\n",
    "pop_temp_df = pd.read_csv('./Outputs/pop_sea_Nasatemp_full.csv')\n",
    "\n",
    "# Merge the dataframes on year, using left join to keep all rows from pop_temp_df\n",
    "merged_df = pd.merge(\n",
    "    pop_temp_df,\n",
    "    oil_df,\n",
    "    on='year',\n",
    "    how='left'\n",
    ")\n",
    "\n",
    "# Fill NaN values with 0 for the oil columns\n",
    "merged_df['oilProductionInTWh'] = merged_df['oilProductionInTWh'].fillna(0)\n",
    "merged_df['barrelsEquivalent'] = merged_df['barrelsEquivalent'].fillna(0)\n",
    "\n",
    "# Write the merged dataframe to a new CSV file\n",
    "merged_df.to_csv('./Outputs/pop_sea_temp_oil.csv', index=False)"
   ]
  },
  {
   "cell_type": "code",
   "execution_count": 39,
   "metadata": {},
   "outputs": [],
   "source": [
    "# Read the CSV files\n",
    "oil_df = pd.read_csv('./Outputs/merchantFleet.csv')\n",
    "pop_temp_df = pd.read_csv('./Outputs/pop_sea_temp_oil.csv')\n",
    "\n",
    "# Merge the dataframes on year, using left join to keep all rows from pop_temp_df\n",
    "merged_df = pd.merge(\n",
    "    pop_temp_df,\n",
    "    oil_df,\n",
    "    on='year',\n",
    "    how='left'\n",
    ")\n",
    "\n",
    "# Fill NaN values with 0 for the oil columns\n",
    "merged_df['motorizedMerchantShipsOver100T'] = merged_df['motorizedMerchantShipsOver100T'].fillna(0)\n",
    "\n",
    "# Write the merged dataframe to a new CSV file\n",
    "merged_df.to_csv('./Outputs/pop_sea_temp_fleet_oil.csv', index=False)"
   ]
  },
  {
   "cell_type": "code",
   "execution_count": 41,
   "metadata": {},
   "outputs": [],
   "source": [
    "# Read the CSV files\n",
    "amazon_df = pd.read_csv('./Outputs/deforestation.csv')\n",
    "pop_temp_df = pd.read_csv('./Outputs/pop_sea_temp_fleet_oil.csv')\n",
    "\n",
    "# Drop the specified columns from amazon_df\n",
    "amazon_df = amazon_df.drop(['remainingCover', 'percent1970Cover'], axis=1)\n",
    "\n",
    "# Merge the dataframes on year, using left join to keep all rows from pop_temp_df\n",
    "merged_df = pd.merge(\n",
    "    pop_temp_df,\n",
    "    amazon_df,\n",
    "    on='year',\n",
    "    how='left'\n",
    ")\n",
    "\n",
    "# Fill NaN values with 0 for the oil columns\n",
    "merged_df['annualLoss'] = merged_df['annualLoss'].fillna(0)\n",
    "\n",
    "# Write the merged dataframe to a new CSV file\n",
    "merged_df.to_csv('./Outputs/pop_sea_temp_fleet_amazon_oil.csv', index=False)"
   ]
  }
 ],
 "metadata": {
  "kernelspec": {
   "display_name": "Python 3",
   "language": "python",
   "name": "python3"
  },
  "language_info": {
   "codemirror_mode": {
    "name": "ipython",
    "version": 3
   },
   "file_extension": ".py",
   "mimetype": "text/x-python",
   "name": "python",
   "nbconvert_exporter": "python",
   "pygments_lexer": "ipython3",
   "version": "3.12.7"
  }
 },
 "nbformat": 4,
 "nbformat_minor": 2
}
